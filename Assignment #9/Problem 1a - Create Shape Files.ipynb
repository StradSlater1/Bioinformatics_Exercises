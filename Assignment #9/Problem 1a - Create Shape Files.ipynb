{
 "cells": [
  {
   "cell_type": "code",
   "execution_count": 6,
   "id": "818aa5db",
   "metadata": {},
   "outputs": [],
   "source": [
    "library(DNAshapeR)\n",
    "library(Biostrings)"
   ]
  },
  {
   "cell_type": "code",
   "execution_count": 8,
   "id": "7ba4ebbc",
   "metadata": {},
   "outputs": [
    {
     "name": "stdout",
     "output_type": "stream",
     "text": [
      "Reading the input sequence......\n",
      "Reading the input sequence......\n",
      "Reading the input sequence......\n",
      "Reading the input sequence......\n",
      "Reading the input sequence......\n"
     ]
    },
    {
     "name": "stderr",
     "output_type": "stream",
     "text": [
      "Parsing files......\n",
      "\n",
      "Record length: 30\n",
      "\n",
      "Record length: 29\n",
      "\n",
      "Record length: 30\n",
      "\n",
      "Record length: 29\n",
      "\n",
      "Record length: 30\n",
      "\n",
      "Done\n",
      "\n"
     ]
    },
    {
     "name": "stdout",
     "output_type": "stream",
     "text": [
      "Reading the input sequence......\n",
      "Reading the input sequence......\n",
      "Reading the input sequence......\n",
      "Reading the input sequence......\n",
      "Reading the input sequence......\n"
     ]
    },
    {
     "name": "stderr",
     "output_type": "stream",
     "text": [
      "Parsing files......\n",
      "\n",
      "Record length: 30\n",
      "\n",
      "Record length: 29\n",
      "\n",
      "Record length: 30\n",
      "\n",
      "Record length: 29\n",
      "\n",
      "Record length: 30\n",
      "\n",
      "Done\n",
      "\n"
     ]
    },
    {
     "name": "stdout",
     "output_type": "stream",
     "text": [
      "Reading the input sequence......\n",
      "Reading the input sequence......\n",
      "Reading the input sequence......\n",
      "Reading the input sequence......\n",
      "Reading the input sequence......\n"
     ]
    },
    {
     "name": "stderr",
     "output_type": "stream",
     "text": [
      "Parsing files......\n",
      "\n",
      "Record length: 30\n",
      "\n",
      "Record length: 29\n",
      "\n",
      "Record length: 30\n",
      "\n",
      "Record length: 29\n",
      "\n",
      "Record length: 30\n",
      "\n",
      "Done\n",
      "\n"
     ]
    },
    {
     "name": "stdout",
     "output_type": "stream",
     "text": [
      "Reading the input sequence......\n",
      "Reading the input sequence......\n",
      "Reading the input sequence......\n",
      "Reading the input sequence......\n",
      "Reading the input sequence......\n"
     ]
    },
    {
     "name": "stderr",
     "output_type": "stream",
     "text": [
      "Parsing files......\n",
      "\n",
      "Record length: 30\n",
      "\n",
      "Record length: 29\n",
      "\n",
      "Record length: 30\n",
      "\n",
      "Record length: 29\n",
      "\n",
      "Record length: 30\n",
      "\n",
      "Done\n",
      "\n"
     ]
    }
   ],
   "source": [
    "unboundCTCF <- getShape(\"ctcf_unbound.fasta\")\n",
    "boundCTCF <- getShape(\"ctcf_bound.fasta\")\n",
    "boundMAX <- getShape(\"max_bound.fasta\")\n",
    "unboundMAX <- getShape(\"max_unbound.fasta\")"
   ]
  },
  {
   "cell_type": "code",
   "execution_count": 9,
   "id": "eb952040",
   "metadata": {},
   "outputs": [],
   "source": [
    "createCSV <- function(data, name){\n",
    "    write.csv(data$MGW, paste0(name, \"_MGW_.csv\"), row.names = FALSE)\n",
    "    write.csv(data$ProT, paste0(name, \"_ProT_.csv\"), row.names = FALSE)\n",
    "    write.csv(data$Roll, paste0(name, \"_Roll_.csv\"), row.names = FALSE)\n",
    "    write.csv(data$HelT, paste0(name, \"_HelT_.csv\"), row.names = FALSE)\n",
    "    write.csv(data$EP, paste0(name, \"_EP_.csv\"), row.names = FALSE)\n",
    "}"
   ]
  },
  {
   "cell_type": "code",
   "execution_count": 10,
   "id": "076c21fb",
   "metadata": {},
   "outputs": [],
   "source": [
    "createCSV(unboundCTCF, \"ctcf_unbounded\")\n",
    "createCSV(boundCTCF, \"ctcf_bounded\")\n",
    "createCSV(unboundMAX, \"max_unbounded\")\n",
    "createCSV(boundMAX, \"max_bounded\")"
   ]
  },
  {
   "cell_type": "code",
   "execution_count": null,
   "id": "91f09116",
   "metadata": {},
   "outputs": [],
   "source": []
  }
 ],
 "metadata": {
  "kernelspec": {
   "display_name": "R",
   "language": "R",
   "name": "ir"
  },
  "language_info": {
   "codemirror_mode": "r",
   "file_extension": ".r",
   "mimetype": "text/x-r-source",
   "name": "R",
   "pygments_lexer": "r",
   "version": "4.3.2"
  }
 },
 "nbformat": 4,
 "nbformat_minor": 5
}
