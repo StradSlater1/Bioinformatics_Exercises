{
 "cells": [
  {
   "cell_type": "markdown",
   "id": "317062b4",
   "metadata": {},
   "source": [
    "# QBIO Assignment #6"
   ]
  },
  {
   "cell_type": "markdown",
   "id": "b5847119",
   "metadata": {},
   "source": [
    "### Problem 1 - LA River Rain Threshold"
   ]
  },
  {
   "cell_type": "code",
   "execution_count": 69,
   "id": "f2802b81",
   "metadata": {},
   "outputs": [],
   "source": [
    "before_data <- read.table(\"beforerain.bracken\", header = TRUE, sep = \"\\t\")\n",
    "after_data <- read.table(\"afterrain.bracken\", header = TRUE, sep = \"\\t\")"
   ]
  },
  {
   "cell_type": "code",
   "execution_count": 70,
   "id": "bb2d7512",
   "metadata": {},
   "outputs": [],
   "source": [
    "above_thresh <- function(data, threshold){\n",
    "    result <- subset(data, fraction_total_reads > threshold)\n",
    "    return (result[c(\"name\", \"fraction_total_reads\")])\n",
    "}"
   ]
  },
  {
   "cell_type": "code",
   "execution_count": 71,
   "id": "dbef7e2a",
   "metadata": {},
   "outputs": [],
   "source": [
    "answer_before <- above_thresh(before_data, 0.01)\n",
    "answer_after <- above_thresh(after_data, 0.01)"
   ]
  },
  {
   "cell_type": "code",
   "execution_count": 72,
   "id": "3f538b1e",
   "metadata": {},
   "outputs": [
    {
     "data": {
      "text/html": [
       "<table class=\"dataframe\">\n",
       "<caption>A data.frame: 8 × 2</caption>\n",
       "<thead>\n",
       "\t<tr><th></th><th scope=col>name</th><th scope=col>fraction_total_reads</th></tr>\n",
       "\t<tr><th></th><th scope=col>&lt;chr&gt;</th><th scope=col>&lt;dbl&gt;</th></tr>\n",
       "</thead>\n",
       "<tbody>\n",
       "\t<tr><th scope=row>903</th><td>Polynucleobacter acidiphobus</td><td>0.01528</td></tr>\n",
       "\t<tr><th scope=row>1069</th><td>Homo sapiens                </td><td>0.01831</td></tr>\n",
       "\t<tr><th scope=row>1134</th><td>Limnohabitans sp. 63ED37-2  </td><td>0.11301</td></tr>\n",
       "\t<tr><th scope=row>1135</th><td>Limnohabitans sp. 103DPR2   </td><td>0.01286</td></tr>\n",
       "\t<tr><th scope=row>1630</th><td>Polynucleobacter necessarius</td><td>0.02691</td></tr>\n",
       "\t<tr><th scope=row>2046</th><td>Hydrogenophaga sp. RAC07    </td><td>0.01211</td></tr>\n",
       "\t<tr><th scope=row>2103</th><td>Cloacibacterium normanense  </td><td>0.02526</td></tr>\n",
       "\t<tr><th scope=row>3894</th><td>beta proteobacterium CB     </td><td>0.02466</td></tr>\n",
       "</tbody>\n",
       "</table>\n"
      ],
      "text/latex": [
       "A data.frame: 8 × 2\n",
       "\\begin{tabular}{r|ll}\n",
       "  & name & fraction\\_total\\_reads\\\\\n",
       "  & <chr> & <dbl>\\\\\n",
       "\\hline\n",
       "\t903 & Polynucleobacter acidiphobus & 0.01528\\\\\n",
       "\t1069 & Homo sapiens                 & 0.01831\\\\\n",
       "\t1134 & Limnohabitans sp. 63ED37-2   & 0.11301\\\\\n",
       "\t1135 & Limnohabitans sp. 103DPR2    & 0.01286\\\\\n",
       "\t1630 & Polynucleobacter necessarius & 0.02691\\\\\n",
       "\t2046 & Hydrogenophaga sp. RAC07     & 0.01211\\\\\n",
       "\t2103 & Cloacibacterium normanense   & 0.02526\\\\\n",
       "\t3894 & beta proteobacterium CB      & 0.02466\\\\\n",
       "\\end{tabular}\n"
      ],
      "text/markdown": [
       "\n",
       "A data.frame: 8 × 2\n",
       "\n",
       "| <!--/--> | name &lt;chr&gt; | fraction_total_reads &lt;dbl&gt; |\n",
       "|---|---|---|\n",
       "| 903 | Polynucleobacter acidiphobus | 0.01528 |\n",
       "| 1069 | Homo sapiens                 | 0.01831 |\n",
       "| 1134 | Limnohabitans sp. 63ED37-2   | 0.11301 |\n",
       "| 1135 | Limnohabitans sp. 103DPR2    | 0.01286 |\n",
       "| 1630 | Polynucleobacter necessarius | 0.02691 |\n",
       "| 2046 | Hydrogenophaga sp. RAC07     | 0.01211 |\n",
       "| 2103 | Cloacibacterium normanense   | 0.02526 |\n",
       "| 3894 | beta proteobacterium CB      | 0.02466 |\n",
       "\n"
      ],
      "text/plain": [
       "     name                         fraction_total_reads\n",
       "903  Polynucleobacter acidiphobus 0.01528             \n",
       "1069 Homo sapiens                 0.01831             \n",
       "1134 Limnohabitans sp. 63ED37-2   0.11301             \n",
       "1135 Limnohabitans sp. 103DPR2    0.01286             \n",
       "1630 Polynucleobacter necessarius 0.02691             \n",
       "2046 Hydrogenophaga sp. RAC07     0.01211             \n",
       "2103 Cloacibacterium normanense   0.02526             \n",
       "3894 beta proteobacterium CB      0.02466             "
      ]
     },
     "metadata": {},
     "output_type": "display_data"
    }
   ],
   "source": [
    "answer_before"
   ]
  },
  {
   "cell_type": "code",
   "execution_count": 73,
   "id": "0d94c3a5",
   "metadata": {},
   "outputs": [
    {
     "data": {
      "text/html": [
       "<table class=\"dataframe\">\n",
       "<caption>A data.frame: 9 × 2</caption>\n",
       "<thead>\n",
       "\t<tr><th></th><th scope=col>name</th><th scope=col>fraction_total_reads</th></tr>\n",
       "\t<tr><th></th><th scope=col>&lt;chr&gt;</th><th scope=col>&lt;dbl&gt;</th></tr>\n",
       "</thead>\n",
       "<tbody>\n",
       "\t<tr><th scope=row>160</th><td>Curvibacter sp. AEP1-3      </td><td>0.01170</td></tr>\n",
       "\t<tr><th scope=row>905</th><td>Polynucleobacter acidiphobus</td><td>0.01099</td></tr>\n",
       "\t<tr><th scope=row>1070</th><td>Homo sapiens                </td><td>0.01187</td></tr>\n",
       "\t<tr><th scope=row>1135</th><td>Limnohabitans sp. 63ED37-2  </td><td>0.05251</td></tr>\n",
       "\t<tr><th scope=row>1136</th><td>Limnohabitans sp. 103DPR2   </td><td>0.01398</td></tr>\n",
       "\t<tr><th scope=row>1623</th><td>Polynucleobacter necessarius</td><td>0.01792</td></tr>\n",
       "\t<tr><th scope=row>2040</th><td>Hydrogenophaga sp. RAC07    </td><td>0.01938</td></tr>\n",
       "\t<tr><th scope=row>2095</th><td>Cloacibacterium normanense  </td><td>0.01177</td></tr>\n",
       "\t<tr><th scope=row>2108</th><td>Acidovorax sp. T1           </td><td>0.01068</td></tr>\n",
       "</tbody>\n",
       "</table>\n"
      ],
      "text/latex": [
       "A data.frame: 9 × 2\n",
       "\\begin{tabular}{r|ll}\n",
       "  & name & fraction\\_total\\_reads\\\\\n",
       "  & <chr> & <dbl>\\\\\n",
       "\\hline\n",
       "\t160 & Curvibacter sp. AEP1-3       & 0.01170\\\\\n",
       "\t905 & Polynucleobacter acidiphobus & 0.01099\\\\\n",
       "\t1070 & Homo sapiens                 & 0.01187\\\\\n",
       "\t1135 & Limnohabitans sp. 63ED37-2   & 0.05251\\\\\n",
       "\t1136 & Limnohabitans sp. 103DPR2    & 0.01398\\\\\n",
       "\t1623 & Polynucleobacter necessarius & 0.01792\\\\\n",
       "\t2040 & Hydrogenophaga sp. RAC07     & 0.01938\\\\\n",
       "\t2095 & Cloacibacterium normanense   & 0.01177\\\\\n",
       "\t2108 & Acidovorax sp. T1            & 0.01068\\\\\n",
       "\\end{tabular}\n"
      ],
      "text/markdown": [
       "\n",
       "A data.frame: 9 × 2\n",
       "\n",
       "| <!--/--> | name &lt;chr&gt; | fraction_total_reads &lt;dbl&gt; |\n",
       "|---|---|---|\n",
       "| 160 | Curvibacter sp. AEP1-3       | 0.01170 |\n",
       "| 905 | Polynucleobacter acidiphobus | 0.01099 |\n",
       "| 1070 | Homo sapiens                 | 0.01187 |\n",
       "| 1135 | Limnohabitans sp. 63ED37-2   | 0.05251 |\n",
       "| 1136 | Limnohabitans sp. 103DPR2    | 0.01398 |\n",
       "| 1623 | Polynucleobacter necessarius | 0.01792 |\n",
       "| 2040 | Hydrogenophaga sp. RAC07     | 0.01938 |\n",
       "| 2095 | Cloacibacterium normanense   | 0.01177 |\n",
       "| 2108 | Acidovorax sp. T1            | 0.01068 |\n",
       "\n"
      ],
      "text/plain": [
       "     name                         fraction_total_reads\n",
       "160  Curvibacter sp. AEP1-3       0.01170             \n",
       "905  Polynucleobacter acidiphobus 0.01099             \n",
       "1070 Homo sapiens                 0.01187             \n",
       "1135 Limnohabitans sp. 63ED37-2   0.05251             \n",
       "1136 Limnohabitans sp. 103DPR2    0.01398             \n",
       "1623 Polynucleobacter necessarius 0.01792             \n",
       "2040 Hydrogenophaga sp. RAC07     0.01938             \n",
       "2095 Cloacibacterium normanense   0.01177             \n",
       "2108 Acidovorax sp. T1            0.01068             "
      ]
     },
     "metadata": {},
     "output_type": "display_data"
    }
   ],
   "source": [
    "answer_after"
   ]
  },
  {
   "cell_type": "markdown",
   "id": "7cf7ce52",
   "metadata": {},
   "source": [
    "### Problem 2 - Compare the 2 Files"
   ]
  },
  {
   "cell_type": "code",
   "execution_count": 74,
   "id": "a2586def",
   "metadata": {},
   "outputs": [],
   "source": [
    "compare <- function(data1, data2, n){\n",
    "            merged_data <- merge(data1, data2, by = \"name\", all = TRUE)\n",
    "            merged_data$fraction_total_reads.x[is.na(merged_data$fraction_total_reads.x)] <- 0\n",
    "            merged_data$fraction_total_reads.y[is.na(merged_data$fraction_total_reads.y)] <- 0\n",
    "            merged_data$absolute_difference <- abs(merged_data$fraction_total_reads.x - merged_data$fraction_total_reads.y)\n",
    "            top_indices <- order(-merged_data$absolute_difference)[1:n]\n",
    "            top_n_rows <- merged_data[top_indices, ]\n",
    "            return (top_n_rows)\n",
    "}"
   ]
  },
  {
   "cell_type": "code",
   "execution_count": 75,
   "id": "f8be866f",
   "metadata": {},
   "outputs": [
    {
     "data": {
      "text/html": [
       "<table class=\"dataframe\">\n",
       "<caption>A data.frame: 10 × 14</caption>\n",
       "<thead>\n",
       "\t<tr><th></th><th scope=col>name</th><th scope=col>taxonomy_id.x</th><th scope=col>taxonomy_lvl.x</th><th scope=col>kraken_assigned_reads.x</th><th scope=col>added_reads.x</th><th scope=col>new_est_reads.x</th><th scope=col>fraction_total_reads.x</th><th scope=col>taxonomy_id.y</th><th scope=col>taxonomy_lvl.y</th><th scope=col>kraken_assigned_reads.y</th><th scope=col>added_reads.y</th><th scope=col>new_est_reads.y</th><th scope=col>fraction_total_reads.y</th><th scope=col>absolute_difference</th></tr>\n",
       "\t<tr><th></th><th scope=col>&lt;chr&gt;</th><th scope=col>&lt;int&gt;</th><th scope=col>&lt;chr&gt;</th><th scope=col>&lt;int&gt;</th><th scope=col>&lt;int&gt;</th><th scope=col>&lt;int&gt;</th><th scope=col>&lt;dbl&gt;</th><th scope=col>&lt;int&gt;</th><th scope=col>&lt;chr&gt;</th><th scope=col>&lt;int&gt;</th><th scope=col>&lt;int&gt;</th><th scope=col>&lt;int&gt;</th><th scope=col>&lt;dbl&gt;</th><th scope=col>&lt;dbl&gt;</th></tr>\n",
       "</thead>\n",
       "<tbody>\n",
       "\t<tr><th scope=row>2220</th><td>Limnohabitans sp. 63ED37-2       </td><td>1678128</td><td>S </td><td>510214</td><td>52379</td><td>562593</td><td>0.11301</td><td>1678128</td><td>S </td><td>228023</td><td>28579</td><td>256602</td><td>0.05251</td><td>0.06050</td></tr>\n",
       "\t<tr><th scope=row>554</th><td>beta proteobacterium CB          </td><td> 543913</td><td>S </td><td>107988</td><td>14767</td><td>122755</td><td>0.02466</td><td>     NA</td><td>NA</td><td>    NA</td><td>   NA</td><td>    NA</td><td>0.00000</td><td>0.02466</td></tr>\n",
       "\t<tr><th scope=row>1124</th><td>Cloacibacterium normanense       </td><td> 237258</td><td>S </td><td>100967</td><td>24805</td><td>125772</td><td>0.02526</td><td> 237258</td><td>S </td><td> 45965</td><td>11529</td><td> 57494</td><td>0.01177</td><td>0.01349</td></tr>\n",
       "\t<tr><th scope=row>3174</th><td>Polynucleobacter necessarius     </td><td> 576610</td><td>S </td><td>130854</td><td> 3134</td><td>133988</td><td>0.02691</td><td> 576610</td><td>S </td><td> 84187</td><td> 3397</td><td> 87584</td><td>0.01792</td><td>0.00899</td></tr>\n",
       "\t<tr><th scope=row>1303</th><td>Curvibacter sp. AEP1-3           </td><td>1844971</td><td>S </td><td> 13224</td><td>  596</td><td> 13820</td><td>0.00278</td><td>1844971</td><td>S </td><td> 54369</td><td> 2796</td><td> 57165</td><td>0.01170</td><td>0.00892</td></tr>\n",
       "\t<tr><th scope=row>1939</th><td>Hydrogenophaga sp. RAC07         </td><td>1842537</td><td>S </td><td> 57395</td><td> 2876</td><td> 60271</td><td>0.01211</td><td>1842537</td><td>S </td><td> 89780</td><td> 4929</td><td> 94709</td><td>0.01938</td><td>0.00727</td></tr>\n",
       "\t<tr><th scope=row>1925</th><td>Homo sapiens                     </td><td>   9606</td><td>S </td><td> 88648</td><td> 2488</td><td> 91136</td><td>0.01831</td><td>   9606</td><td>S </td><td> 56360</td><td> 1632</td><td> 57992</td><td>0.01187</td><td>0.00644</td></tr>\n",
       "\t<tr><th scope=row>920</th><td>Candidatus Planktophila sulfonica</td><td>1884904</td><td>S </td><td> 39604</td><td>10153</td><td> 49757</td><td>0.00999</td><td>1884904</td><td>S </td><td> 17625</td><td> 4613</td><td> 22238</td><td>0.00455</td><td>0.00544</td></tr>\n",
       "\t<tr><th scope=row>3591</th><td>Rhodoferax saidenbachensis       </td><td>     NA</td><td>NA</td><td>    NA</td><td>   NA</td><td>    NA</td><td>0.00000</td><td>1484693</td><td>S </td><td> 24116</td><td> 1677</td><td> 25793</td><td>0.00528</td><td>0.00528</td></tr>\n",
       "\t<tr><th scope=row>3275</th><td>Pseudomonas aeruginosa           </td><td>     NA</td><td>NA</td><td>    NA</td><td>   NA</td><td>    NA</td><td>0.00000</td><td>    287</td><td>S </td><td>  5030</td><td>19830</td><td> 24860</td><td>0.00509</td><td>0.00509</td></tr>\n",
       "</tbody>\n",
       "</table>\n"
      ],
      "text/latex": [
       "A data.frame: 10 × 14\n",
       "\\begin{tabular}{r|llllllllllllll}\n",
       "  & name & taxonomy\\_id.x & taxonomy\\_lvl.x & kraken\\_assigned\\_reads.x & added\\_reads.x & new\\_est\\_reads.x & fraction\\_total\\_reads.x & taxonomy\\_id.y & taxonomy\\_lvl.y & kraken\\_assigned\\_reads.y & added\\_reads.y & new\\_est\\_reads.y & fraction\\_total\\_reads.y & absolute\\_difference\\\\\n",
       "  & <chr> & <int> & <chr> & <int> & <int> & <int> & <dbl> & <int> & <chr> & <int> & <int> & <int> & <dbl> & <dbl>\\\\\n",
       "\\hline\n",
       "\t2220 & Limnohabitans sp. 63ED37-2        & 1678128 & S  & 510214 & 52379 & 562593 & 0.11301 & 1678128 & S  & 228023 & 28579 & 256602 & 0.05251 & 0.06050\\\\\n",
       "\t554 & beta proteobacterium CB           &  543913 & S  & 107988 & 14767 & 122755 & 0.02466 &      NA & NA &     NA &    NA &     NA & 0.00000 & 0.02466\\\\\n",
       "\t1124 & Cloacibacterium normanense        &  237258 & S  & 100967 & 24805 & 125772 & 0.02526 &  237258 & S  &  45965 & 11529 &  57494 & 0.01177 & 0.01349\\\\\n",
       "\t3174 & Polynucleobacter necessarius      &  576610 & S  & 130854 &  3134 & 133988 & 0.02691 &  576610 & S  &  84187 &  3397 &  87584 & 0.01792 & 0.00899\\\\\n",
       "\t1303 & Curvibacter sp. AEP1-3            & 1844971 & S  &  13224 &   596 &  13820 & 0.00278 & 1844971 & S  &  54369 &  2796 &  57165 & 0.01170 & 0.00892\\\\\n",
       "\t1939 & Hydrogenophaga sp. RAC07          & 1842537 & S  &  57395 &  2876 &  60271 & 0.01211 & 1842537 & S  &  89780 &  4929 &  94709 & 0.01938 & 0.00727\\\\\n",
       "\t1925 & Homo sapiens                      &    9606 & S  &  88648 &  2488 &  91136 & 0.01831 &    9606 & S  &  56360 &  1632 &  57992 & 0.01187 & 0.00644\\\\\n",
       "\t920 & Candidatus Planktophila sulfonica & 1884904 & S  &  39604 & 10153 &  49757 & 0.00999 & 1884904 & S  &  17625 &  4613 &  22238 & 0.00455 & 0.00544\\\\\n",
       "\t3591 & Rhodoferax saidenbachensis        &      NA & NA &     NA &    NA &     NA & 0.00000 & 1484693 & S  &  24116 &  1677 &  25793 & 0.00528 & 0.00528\\\\\n",
       "\t3275 & Pseudomonas aeruginosa            &      NA & NA &     NA &    NA &     NA & 0.00000 &     287 & S  &   5030 & 19830 &  24860 & 0.00509 & 0.00509\\\\\n",
       "\\end{tabular}\n"
      ],
      "text/markdown": [
       "\n",
       "A data.frame: 10 × 14\n",
       "\n",
       "| <!--/--> | name &lt;chr&gt; | taxonomy_id.x &lt;int&gt; | taxonomy_lvl.x &lt;chr&gt; | kraken_assigned_reads.x &lt;int&gt; | added_reads.x &lt;int&gt; | new_est_reads.x &lt;int&gt; | fraction_total_reads.x &lt;dbl&gt; | taxonomy_id.y &lt;int&gt; | taxonomy_lvl.y &lt;chr&gt; | kraken_assigned_reads.y &lt;int&gt; | added_reads.y &lt;int&gt; | new_est_reads.y &lt;int&gt; | fraction_total_reads.y &lt;dbl&gt; | absolute_difference &lt;dbl&gt; |\n",
       "|---|---|---|---|---|---|---|---|---|---|---|---|---|---|---|\n",
       "| 2220 | Limnohabitans sp. 63ED37-2        | 1678128 | S  | 510214 | 52379 | 562593 | 0.11301 | 1678128 | S  | 228023 | 28579 | 256602 | 0.05251 | 0.06050 |\n",
       "| 554 | beta proteobacterium CB           |  543913 | S  | 107988 | 14767 | 122755 | 0.02466 |      NA | NA |     NA |    NA |     NA | 0.00000 | 0.02466 |\n",
       "| 1124 | Cloacibacterium normanense        |  237258 | S  | 100967 | 24805 | 125772 | 0.02526 |  237258 | S  |  45965 | 11529 |  57494 | 0.01177 | 0.01349 |\n",
       "| 3174 | Polynucleobacter necessarius      |  576610 | S  | 130854 |  3134 | 133988 | 0.02691 |  576610 | S  |  84187 |  3397 |  87584 | 0.01792 | 0.00899 |\n",
       "| 1303 | Curvibacter sp. AEP1-3            | 1844971 | S  |  13224 |   596 |  13820 | 0.00278 | 1844971 | S  |  54369 |  2796 |  57165 | 0.01170 | 0.00892 |\n",
       "| 1939 | Hydrogenophaga sp. RAC07          | 1842537 | S  |  57395 |  2876 |  60271 | 0.01211 | 1842537 | S  |  89780 |  4929 |  94709 | 0.01938 | 0.00727 |\n",
       "| 1925 | Homo sapiens                      |    9606 | S  |  88648 |  2488 |  91136 | 0.01831 |    9606 | S  |  56360 |  1632 |  57992 | 0.01187 | 0.00644 |\n",
       "| 920 | Candidatus Planktophila sulfonica | 1884904 | S  |  39604 | 10153 |  49757 | 0.00999 | 1884904 | S  |  17625 |  4613 |  22238 | 0.00455 | 0.00544 |\n",
       "| 3591 | Rhodoferax saidenbachensis        |      NA | NA |     NA |    NA |     NA | 0.00000 | 1484693 | S  |  24116 |  1677 |  25793 | 0.00528 | 0.00528 |\n",
       "| 3275 | Pseudomonas aeruginosa            |      NA | NA |     NA |    NA |     NA | 0.00000 |     287 | S  |   5030 | 19830 |  24860 | 0.00509 | 0.00509 |\n",
       "\n"
      ],
      "text/plain": [
       "     name                              taxonomy_id.x taxonomy_lvl.x\n",
       "2220 Limnohabitans sp. 63ED37-2        1678128       S             \n",
       "554  beta proteobacterium CB            543913       S             \n",
       "1124 Cloacibacterium normanense         237258       S             \n",
       "3174 Polynucleobacter necessarius       576610       S             \n",
       "1303 Curvibacter sp. AEP1-3            1844971       S             \n",
       "1939 Hydrogenophaga sp. RAC07          1842537       S             \n",
       "1925 Homo sapiens                         9606       S             \n",
       "920  Candidatus Planktophila sulfonica 1884904       S             \n",
       "3591 Rhodoferax saidenbachensis             NA       NA            \n",
       "3275 Pseudomonas aeruginosa                 NA       NA            \n",
       "     kraken_assigned_reads.x added_reads.x new_est_reads.x\n",
       "2220 510214                  52379         562593         \n",
       "554  107988                  14767         122755         \n",
       "1124 100967                  24805         125772         \n",
       "3174 130854                   3134         133988         \n",
       "1303  13224                    596          13820         \n",
       "1939  57395                   2876          60271         \n",
       "1925  88648                   2488          91136         \n",
       "920   39604                  10153          49757         \n",
       "3591     NA                     NA             NA         \n",
       "3275     NA                     NA             NA         \n",
       "     fraction_total_reads.x taxonomy_id.y taxonomy_lvl.y\n",
       "2220 0.11301                1678128       S             \n",
       "554  0.02466                     NA       NA            \n",
       "1124 0.02526                 237258       S             \n",
       "3174 0.02691                 576610       S             \n",
       "1303 0.00278                1844971       S             \n",
       "1939 0.01211                1842537       S             \n",
       "1925 0.01831                   9606       S             \n",
       "920  0.00999                1884904       S             \n",
       "3591 0.00000                1484693       S             \n",
       "3275 0.00000                    287       S             \n",
       "     kraken_assigned_reads.y added_reads.y new_est_reads.y\n",
       "2220 228023                  28579         256602         \n",
       "554      NA                     NA             NA         \n",
       "1124  45965                  11529          57494         \n",
       "3174  84187                   3397          87584         \n",
       "1303  54369                   2796          57165         \n",
       "1939  89780                   4929          94709         \n",
       "1925  56360                   1632          57992         \n",
       "920   17625                   4613          22238         \n",
       "3591  24116                   1677          25793         \n",
       "3275   5030                  19830          24860         \n",
       "     fraction_total_reads.y absolute_difference\n",
       "2220 0.05251                0.06050            \n",
       "554  0.00000                0.02466            \n",
       "1124 0.01177                0.01349            \n",
       "3174 0.01792                0.00899            \n",
       "1303 0.01170                0.00892            \n",
       "1939 0.01938                0.00727            \n",
       "1925 0.01187                0.00644            \n",
       "920  0.00455                0.00544            \n",
       "3591 0.00528                0.00528            \n",
       "3275 0.00509                0.00509            "
      ]
     },
     "metadata": {},
     "output_type": "display_data"
    }
   ],
   "source": [
    "top_ten <- compare(before_data, after_data, 10)\n",
    "top_ten"
   ]
  },
  {
   "cell_type": "markdown",
   "id": "fce0e2e3",
   "metadata": {},
   "source": [
    "### Problem 3 - Shannon Diversity"
   ]
  },
  {
   "cell_type": "code",
   "execution_count": 76,
   "id": "15c1f4cc",
   "metadata": {},
   "outputs": [],
   "source": [
    "shannon_diversity <- function(data){\n",
    "    total_count <- sum(data$new_est_reads)\n",
    "    data$p <- (data$new_est_reads)/total_count\n",
    "    shannon_diversity <- -1*sum(data$p*(log(data$p)))\n",
    "    return (shannon_diversity)\n",
    "}"
   ]
  },
  {
   "cell_type": "code",
   "execution_count": 77,
   "id": "f3a8e51a",
   "metadata": {},
   "outputs": [
    {
     "name": "stdout",
     "output_type": "stream",
     "text": [
      "[1] \"Before Rain:  6.13744167139308\"\n",
      "[1] \"After Rain:  6.72304146175515\"\n"
     ]
    }
   ],
   "source": [
    "print(paste(\"Before Rain: \", shannon_diversity(before_data)))\n",
    "print(paste(\"After Rain: \", shannon_diversity(after_data)))"
   ]
  },
  {
   "cell_type": "markdown",
   "id": "ce25a175",
   "metadata": {},
   "source": [
    "Here we see that the Shannon Diversity does not change that much after rainfall has occured. It does increase however which indicates an increase in biodiversity although not by a lot. "
   ]
  }
 ],
 "metadata": {
  "kernelspec": {
   "display_name": "R",
   "language": "R",
   "name": "ir"
  },
  "language_info": {
   "codemirror_mode": "r",
   "file_extension": ".r",
   "mimetype": "text/x-r-source",
   "name": "R",
   "pygments_lexer": "r",
   "version": "4.3.2"
  }
 },
 "nbformat": 4,
 "nbformat_minor": 5
}
