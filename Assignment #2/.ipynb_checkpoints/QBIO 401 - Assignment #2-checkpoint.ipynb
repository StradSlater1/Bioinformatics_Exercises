{
 "cells": [
  {
   "cell_type": "code",
   "execution_count": 230,
   "id": "d7495f33",
   "metadata": {},
   "outputs": [],
   "source": [
    "import pandas as pd\n",
    "import numpy as np\n",
    "import seaborn as sns\n",
    "import matplotlib\n",
    "from matplotlib import pyplot as plt"
   ]
  },
  {
   "cell_type": "markdown",
   "id": "c7c434f5",
   "metadata": {},
   "source": [
    "# Problem 1 : Expected Value and Probability"
   ]
  },
  {
   "cell_type": "code",
   "execution_count": 231,
   "id": "adb74639",
   "metadata": {},
   "outputs": [],
   "source": [
    "def expected_probablity(gc, L):\n",
    "    g = gc/2\n",
    "    c = gc/2\n",
    "    a = (1-gc)/2\n",
    "    t = (1-gc)/2\n",
    "    p = (t*a*g) + (t*a*a) + (t*g*a)\n",
    "    expected_value = (1/p)\n",
    "    prob_w_L = 0\n",
    "    for i in range(1,L+1):\n",
    "        prob_w_L += np.power((1 - p), (i - 1))*p\n",
    "    prob_greater_than_L = 1 - prob_w_L \n",
    "    return (round(expected_value, 3), round(prob_greater_than_L,3))"
   ]
  },
  {
   "cell_type": "code",
   "execution_count": 232,
   "id": "8c5a016f",
   "metadata": {},
   "outputs": [
    {
     "data": {
      "text/plain": [
       "(15.873, 0.039)"
      ]
     },
     "execution_count": 232,
     "metadata": {},
     "output_type": "execute_result"
    }
   ],
   "source": [
    "expected_probablity(0.4, 50)"
   ]
  },
  {
   "cell_type": "markdown",
   "id": "b31ca9e8",
   "metadata": {},
   "source": [
    "# Problem 2 : Global Alignment"
   ]
  },
  {
   "cell_type": "code",
   "execution_count": 233,
   "id": "62af4a16",
   "metadata": {},
   "outputs": [],
   "source": [
    "def f(i, j, array, Smatch, Pmismatch, Pgap, X, Y):\n",
    "    if (i == 0):\n",
    "        return array[0][j]\n",
    "    elif (j == 0):\n",
    "        return array[i][0]\n",
    "    else:\n",
    "        add = 0\n",
    "        if (X[i-1] == Y[j-1]):\n",
    "            add = Smatch\n",
    "        else:\n",
    "            add = Pmismatch\n",
    "        upper_left = f(i-1, j-1, array, Smatch, Pmismatch, Pgap, X, Y) + add\n",
    "        left = f(i, j-1, array, Smatch, Pmismatch, Pgap, X, Y) + Pgap\n",
    "        up = f(i-1,j, array, Smatch, Pmismatch, Pgap, X, Y) + Pgap\n",
    "        return max(upper_left, left, up)\n",
    "\n",
    "def global_alignment(X, Y, Smatch, Pmismatch, Pgap):\n",
    "    rows = 1 + len(X)\n",
    "    cols = 1 + len(Y)\n",
    "    my_list = [[0] * cols for _ in range(rows)]\n",
    "    my_array = np.array(my_list)\n",
    "    value = 0\n",
    "    for i in range(0,cols):\n",
    "        my_array[0][i] = value\n",
    "        value += Pgap\n",
    "        i += 1\n",
    "    value = 0\n",
    "    for i in range(0,rows):\n",
    "        my_array[i][0] = value\n",
    "        value += Pgap\n",
    "        i += 1\n",
    "    for i in range(0, rows):\n",
    "        for j in range(0, cols):\n",
    "            my_array[i][j] = f(i,j,my_array, Smatch, Pmismatch, Pgap, X, Y)\n",
    "    \n",
    "    return my_array"
   ]
  },
  {
   "cell_type": "code",
   "execution_count": 234,
   "id": "611168b3",
   "metadata": {},
   "outputs": [
    {
     "data": {
      "text/plain": [
       "array([[ 0, -2, -4, -6, -8],\n",
       "       [-2, -1,  1, -1, -3],\n",
       "       [-4,  1, -1,  4,  2],\n",
       "       [-6, -1,  0,  2,  3],\n",
       "       [-8, -3,  2,  0,  1]])"
      ]
     },
     "execution_count": 234,
     "metadata": {},
     "output_type": "execute_result"
    }
   ],
   "source": [
    "global_alignment('ACGA','CACT', 3, -1, -2)"
   ]
  },
  {
   "cell_type": "markdown",
   "id": "dc107ef1",
   "metadata": {},
   "source": [
    "# Problem 3 : Optimal Alignment"
   ]
  },
  {
   "cell_type": "code",
   "execution_count": 235,
   "id": "b4d4d481",
   "metadata": {},
   "outputs": [],
   "source": [
    "def f(i, j, array, parray, Smatch, Pmismatch, Pgap, X, Y):\n",
    "    if (i==0 and j==0):\n",
    "        parray[i][j] = 0\n",
    "        return array[0][0]\n",
    "    elif (i == 0):\n",
    "        parray[i][j] = 1\n",
    "        return array[0][j]\n",
    "    elif (j == 0):\n",
    "        parray[i][j] = 2\n",
    "        return array[i][0]\n",
    "    else:\n",
    "        add = 0\n",
    "        if (X[i-1] == Y[j-1]):\n",
    "            add = Smatch\n",
    "        else:\n",
    "            add = Pmismatch\n",
    "        upper_left = f(i-1, j-1, array, parray, Smatch, Pmismatch, Pgap, X, Y) + add\n",
    "        left = f(i, j-1, array, parray, Smatch, Pmismatch, Pgap, X, Y) + Pgap\n",
    "        up = f(i-1,j, array,  parray, Smatch, Pmismatch, Pgap, X, Y) + Pgap\n",
    "        max_val = max(upper_left, left, up)\n",
    "        if (max_val == upper_left):\n",
    "            parray[i][j] = 0\n",
    "        elif (max_val == left):\n",
    "            parray[i][j] = 1\n",
    "        else:\n",
    "            parray[i][j] = 2\n",
    "        return max_val\n",
    "\n",
    "def global_alignment(X, Y, Smatch, Pmismatch, Pgap):\n",
    "    rows = 1 + len(X)\n",
    "    cols = 1 + len(Y)\n",
    "    my_list = [[0] * cols for _ in range(rows)]\n",
    "    my_array = np.array(my_list)\n",
    "    my_array_pointers = np.array(my_list)\n",
    "    value = 0\n",
    "    for i in range(0,cols):\n",
    "        my_array[0][i] = value\n",
    "        value += Pgap\n",
    "        i += 1\n",
    "    value = 0\n",
    "    for i in range(0,rows):\n",
    "        my_array[i][0] = value\n",
    "        value += Pgap\n",
    "        i += 1\n",
    "    for i in range(0, rows):\n",
    "        for j in range(0, cols):\n",
    "            my_array[i][j] = f(i,j,my_array, my_array_pointers, Smatch, Pmismatch, Pgap, X, Y)\n",
    "    seq1 = \"\"\n",
    "    seq2 = \"\"\n",
    "    i = rows - 1\n",
    "    j = cols - 1\n",
    "    while (not((i == 0) and (j==0))):\n",
    "        \n",
    "        if (my_array_pointers[i][j] == 0):\n",
    "            seq1 += Y[j-1]\n",
    "            seq2 += X[i-1]\n",
    "            if (i>0):\n",
    "                i -= 1\n",
    "            if (j>0):\n",
    "                j -= 1\n",
    "        elif (my_array_pointers[i][j] == 1):\n",
    "            seq1 += Y[j-1]\n",
    "            seq2 += \"-\"\n",
    "            if (j>0):\n",
    "                j -= 1\n",
    "        else:\n",
    "            seq1 += \"-\"\n",
    "            seq2 += X[i-1]\n",
    "            if (i>0):\n",
    "                i -= 1\n",
    "    return [seq1[::-1], seq2[::-1]]\n",
    "\n",
    "def alignment_score(seq1, seq2, Smatch, Pmismatch, Pgap):\n",
    "    matches = 0\n",
    "    mismatches = 0\n",
    "    gaps = 0\n",
    "    length = min(len(seq1), len(seq2))\n",
    "    for i in range(0, length):\n",
    "        if (seq1[i] == seq2[i]):\n",
    "            matches += 1\n",
    "        elif ((seq1[i] == '-') or (seq2[i] == '-')):\n",
    "            gaps += 1\n",
    "        else:\n",
    "            mismatches += 1\n",
    "    return matches*Smatch + Pmismatch*mismatches + Pgap*gaps"
   ]
  },
  {
   "cell_type": "code",
   "execution_count": 236,
   "id": "f6f94241",
   "metadata": {},
   "outputs": [
    {
     "name": "stdout",
     "output_type": "stream",
     "text": [
      "The optimal alignment for ACGA and CACT is ( CAC-T ,  -ACGA ) with an alignment score of  1\n"
     ]
    }
   ],
   "source": [
    "alignments = global_alignment('ACGA','CACT', 3, -1, -2)\n",
    "alignment_score_1 = alignment_score(alignments[0], alignments[1], 3, -1, -2)\n",
    "\n",
    "print(\"The optimal alignment for ACGA and CACT is (\",alignments[0], \", \", alignments[1] , \") with an alignment score of \", alignment_score_1)"
   ]
  },
  {
   "cell_type": "code",
   "execution_count": 237,
   "id": "89e962c1",
   "metadata": {},
   "outputs": [
    {
     "name": "stdout",
     "output_type": "stream",
     "text": [
      "The optimal alignment for GCGCACGTGG and ACACCTGAA is ( --ACACCTGAA ,  GCGCACGTG-G ) with an alignment score of  6\n"
     ]
    }
   ],
   "source": [
    "alignments2 = global_alignment('GCGCACGTGG','ACACCTGAA', 3, -1, -2)\n",
    "alignment_score_2 = alignment_score(alignments2[0], alignments2[1], 3, -1, -2)\n",
    "print(\"The optimal alignment for GCGCACGTGG and ACACCTGAA is (\",alignments2[0], \", \", alignments2[1] , \") with an alignment score of \", alignment_score_2)"
   ]
  }
 ],
 "metadata": {
  "kernelspec": {
   "display_name": "Python 3 (ipykernel)",
   "language": "python",
   "name": "python3"
  },
  "language_info": {
   "codemirror_mode": {
    "name": "ipython",
    "version": 3
   },
   "file_extension": ".py",
   "mimetype": "text/x-python",
   "name": "python",
   "nbconvert_exporter": "python",
   "pygments_lexer": "ipython3",
   "version": "3.11.4"
  }
 },
 "nbformat": 4,
 "nbformat_minor": 5
}
