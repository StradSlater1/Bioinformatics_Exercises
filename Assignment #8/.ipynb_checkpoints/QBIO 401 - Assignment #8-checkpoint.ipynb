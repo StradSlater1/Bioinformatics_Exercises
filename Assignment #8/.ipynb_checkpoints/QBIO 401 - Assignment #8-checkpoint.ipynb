{
 "cells": [
  {
   "cell_type": "markdown",
   "id": "dc14e693",
   "metadata": {},
   "source": [
    "# QBIO 401 - Assignment #8"
   ]
  },
  {
   "cell_type": "code",
   "execution_count": 132,
   "id": "a50ce93b",
   "metadata": {},
   "outputs": [],
   "source": [
    "import pandas as pd\n",
    "import numpy as np\n",
    "import seaborn as sns\n",
    "import matplotlib\n",
    "from matplotlib import pyplot as plt"
   ]
  },
  {
   "cell_type": "markdown",
   "id": "d01c1c6e",
   "metadata": {},
   "source": [
    "## Problem 1 - Read Shape Parameters "
   ]
  },
  {
   "cell_type": "code",
   "execution_count": 133,
   "id": "153241d3",
   "metadata": {},
   "outputs": [],
   "source": [
    "def read_files(files):\n",
    "    num_rows = 0\n",
    "    num_cols = 0\n",
    "    for file in files:\n",
    "        file_data = pd.read_csv(file)\n",
    "        num_cols += file_data.shape[1]\n",
    "    num_rows = file_data.shape[0]\n",
    "    data = np.empty((num_rows, num_cols))\n",
    "    \n",
    "    start_col = 0\n",
    "    for file in files:\n",
    "        file_data = pd.read_csv(file)\n",
    "        end_col = start_col + file_data.shape[1]\n",
    "        data[:, start_col:end_col] = file_data.values\n",
    "        start_col = end_col\n",
    "    \n",
    "    return data"
   ]
  },
  {
   "cell_type": "code",
   "execution_count": 134,
   "id": "15bd36cf",
   "metadata": {},
   "outputs": [
    {
     "data": {
      "text/plain": [
       "array([[ 0.  ,  0.  ,  4.82, ..., 32.39, 36.31,  0.  ],\n",
       "       [ 0.  ,  0.  ,  4.95, ..., 32.03, 34.64,  0.  ],\n",
       "       [ 0.  ,  0.  ,  5.41, ..., 34.17, 36.97,  0.  ],\n",
       "       ...,\n",
       "       [ 0.  ,  0.  ,  4.5 , ..., 37.32, 31.16,  0.  ],\n",
       "       [ 0.  ,  0.  ,  4.82, ..., 34.02, 33.74,  0.  ],\n",
       "       [ 0.  ,  0.  ,  4.61, ..., 33.67, 36.01,  0.  ]])"
      ]
     },
     "execution_count": 134,
     "metadata": {},
     "output_type": "execute_result"
    }
   ],
   "source": [
    "files = ['Max_MGW_.csv', 'Max_ProT_.csv', 'Max_Roll_.csv', 'Max_HelT_.csv']\n",
    "maxShapes = read_files(files)\n",
    "maxShapes = np.nan_to_num(maxShapes, nan=0)\n",
    "maxShapes"
   ]
  },
  {
   "cell_type": "markdown",
   "id": "34de303b",
   "metadata": {},
   "source": [
    "## Problem 2 - One-hot Encoded DNA "
   ]
  },
  {
   "cell_type": "code",
   "execution_count": 135,
   "id": "c6b1b82b",
   "metadata": {},
   "outputs": [],
   "source": [
    "def encode_seq(seq):\n",
    "    alphabet = {\"A\": \"1000\", \"C\" : \"0100\", \"G\" : \"0010\", \"T\" : \"0001\"}\n",
    "    seq_encode = ''\n",
    "    for letter in seq:\n",
    "        seq_encode += alphabet[letter];\n",
    "    return [int(item) for item in list(seq_encode)]\n",
    "\n",
    "#Concatenation occurs in my work under problem 3"
   ]
  },
  {
   "cell_type": "markdown",
   "id": "52483bc6",
   "metadata": {},
   "source": [
    "## Problem 3 - L2-Regularized Multiple Linear Regression "
   ]
  },
  {
   "cell_type": "code",
   "execution_count": 136,
   "id": "72caf488",
   "metadata": {},
   "outputs": [],
   "source": [
    "from sklearn.preprocessing import MinMaxScaler\n",
    "from sklearn.metrics import mean_squared_error, r2_score\n",
    "from sklearn.model_selection import KFold\n",
    "from sklearn.linear_model import LinearRegression, Lasso, Ridge, ElasticNet\n",
    "import warnings\n",
    "from sklearn.exceptions import ConvergenceWarning\n",
    "\n",
    "# Suppress ConvergenceWarning\n",
    "warnings.filterwarnings(\"ignore\", category=ConvergenceWarning)"
   ]
  },
  {
   "cell_type": "code",
   "execution_count": 137,
   "id": "74cd720d",
   "metadata": {},
   "outputs": [],
   "source": [
    "files1 = ['Mad_MGW_.csv', 'Mad_ProT_.csv', 'Mad_Roll_.csv', 'Mad_HelT_.csv']\n",
    "madShapes = read_files(files1)\n",
    "madShapes = np.nan_to_num(madShapes, nan=0)\n",
    "\n",
    "files2 = ['Myc_MGW_.csv', 'Myc_ProT_.csv', 'Myc_Roll_.csv', 'Myc_HelT_.csv']\n",
    "mycShapes = read_files(files2)\n",
    "mycShapes = np.nan_to_num(mycShapes, nan=0)"
   ]
  },
  {
   "cell_type": "code",
   "execution_count": 138,
   "id": "ee4ace10",
   "metadata": {},
   "outputs": [
    {
     "name": "stdout",
     "output_type": "stream",
     "text": [
      "Max data contains: 8568 sequences\n",
      "TF Max Average R^2 1mer: 0.007736973330615208\n",
      "Mad data contains: 7534 sequences\n",
      "TF Mad Average R^2 1mer: 0.007736973330615208\n",
      "Myc data contains: 6926 sequences\n",
      "TF Myc Average R^2 1mer: 0.007736973330615208\n"
     ]
    }
   ],
   "source": [
    "tfs = ['Max', 'Mad', 'Myc']\n",
    "results = []\n",
    "for tf in tfs:\n",
    "    file_path = tf + '.txt'\n",
    "    df = pd.read_csv(file_path, sep='\\t', header=None)\n",
    "    df.columns = ['sequence', 'binding_strength']\n",
    "    \n",
    "    sequences = df['sequence'].tolist()\n",
    "    values = df['binding_strength'].tolist()\n",
    "\n",
    "    print(f'{tf} data contains: {df.shape[0]} sequences')\n",
    "\n",
    "\n",
    "    X_1mer = np.array([encode_seq(seq) for seq in sequences])\n",
    "    min_value = np.min(values)\n",
    "    max_value = np.max(values)\n",
    "    y = [(x - min_value) / (max_value - min_value) for x in values]\n",
    "    y = np.array(y)\n",
    "    \n",
    "    cv = KFold(n_splits=10, shuffle=True, random_state=1)\n",
    "    \n",
    "    model_1mer = Lasso(alpha=0.0005)\n",
    "    \n",
    "    r2_1mer_scores = []\n",
    "    fold = 1\n",
    "    for train_index, valid_index in cv.split(y):    \n",
    "        \n",
    "        X_1mer_train, X_1mer_valid = X_1mer[train_index], X_1mer[valid_index]\n",
    "        y_train, y_valid = y[train_index], y[valid_index]\n",
    "        \n",
    "        model_1mer.fit(X_1mer_train, y_train)\n",
    "\n",
    "     \n",
    "        predictions_1mer = model_1mer.predict(X_1mer_valid)\n",
    "\n",
    "        r2_1mer = r2_score(y_valid, predictions_1mer)\n",
    "        r2_1mer_scores.append(mse_1mer)\n",
    "    \n",
    "        fold += 1\n",
    "    \n",
    "   \n",
    "    average_r2_1mer = np.mean(r2_1mer_scores)\n",
    "    results.append(average_r2_1mer)\n",
    "    \n",
    "    print(f'TF {tf} Average R^2 1mer: {average_r2_1mer}')"
   ]
  },
  {
   "cell_type": "code",
   "execution_count": 139,
   "id": "ea433456",
   "metadata": {},
   "outputs": [
    {
     "name": "stdout",
     "output_type": "stream",
     "text": [
      "Max data contains: 8568 sequences\n",
      "TF Max Average R^2 1mer: 0.9094729177895406\n",
      "Mad data contains: 7534 sequences\n",
      "TF Mad Average R^2 1mer: 0.9364511446806729\n",
      "Myc data contains: 6926 sequences\n",
      "TF Myc Average R^2 1mer: 0.8984900262081158\n"
     ]
    }
   ],
   "source": [
    "tfs = ['Max', 'Mad', 'Myc']\n",
    "shapes = [maxShapes, madShapes, mycShapes]\n",
    "results_shapes = []\n",
    "i = 0\n",
    "for tf in tfs:\n",
    "    file_path = tf + '.txt'\n",
    "    df = pd.read_csv(file_path, sep='\\t', header=None)\n",
    "    df.columns = ['sequence', 'binding_strength']\n",
    "    \n",
    "    sequences = df['sequence'].tolist()\n",
    "    values = df['binding_strength'].tolist()\n",
    "    \n",
    "    print(f'{tf} data contains: {df.shape[0]} sequences')\n",
    "\n",
    "   \n",
    "    X_1mer = np.array([encode_seq(seq) for seq in sequences])\n",
    "    X_1mer_shapes = np.hstack(((X_1mer, shapes[i])))\n",
    "    min_value = np.min(values)\n",
    "    max_value = np.max(values)\n",
    "    y = [(x - min_value) / (max_value - min_value) for x in values]\n",
    "    y = np.array(y)\n",
    "    \n",
    "    cv = KFold(n_splits=10, shuffle=True, random_state=1)\n",
    "    \n",
    "    model_1mer = Lasso(alpha=0.0005)\n",
    "    \n",
    "    r2_1mer_scores = []\n",
    "    fold = 1\n",
    "    for train_index, valid_index in cv.split(y):    \n",
    "       \n",
    "        X_1mer_shape_train, X_1mer_shape_valid = X_1mer_shapes[train_index], X_1mer_shapes[valid_index]\n",
    "        y_train, y_valid = y[train_index], y[valid_index]\n",
    "       \n",
    "        model_1mer.fit(X_1mer_shape_train, y_train)\n",
    "\n",
    "        predictions_1mer = model_1mer.predict(X_1mer_shape_valid)\n",
    "\n",
    "        r2_1mer = r2_score(y_valid, predictions_1mer)\n",
    "        r2_1mer_scores.append(r2_1mer)\n",
    "    \n",
    "        fold += 1\n",
    "    \n",
    "\n",
    "    average_r2_1mer_shapes = np.mean(r2_1mer_scores)\n",
    "    results_shapes.append(average_r2_1mer_shapes)\n",
    "    i += 1\n",
    "    print(f'TF {tf} Average R^2 1mer: {average_r2_1mer_shapes}')"
   ]
  },
  {
   "cell_type": "code",
   "execution_count": 140,
   "id": "9565354e",
   "metadata": {},
   "outputs": [
    {
     "name": "stdout",
     "output_type": "stream",
     "text": [
      "Max Average R^2 w/o shapes 0.007736973330615208 and w/ shapes 0.9094729177895406\n",
      "Mad Average R^2 w/o shapes 0.007736973330615208 and w/ shapes 0.9364511446806729\n",
      "Myc Average R^2 w/o shapes 0.007736973330615208 and w/ shapes 0.8984900262081158\n"
     ]
    }
   ],
   "source": [
    "i = 0\n",
    "results_r_squared = []\n",
    "for tf in tfs:\n",
    "    results_r_squared.append((results[i],results_shapes[i]))\n",
    "    print(f'{tf} Average R^2 w/o shapes {results[i]} and w/ shapes {results_shapes[i]}')\n",
    "    i += 1"
   ]
  },
  {
   "cell_type": "markdown",
   "id": "621e80a4",
   "metadata": {},
   "source": [
    "## Problem 4 - Compare Models "
   ]
  },
  {
   "cell_type": "code",
   "execution_count": 141,
   "id": "fc72d690",
   "metadata": {},
   "outputs": [
    {
     "data": {
      "image/png": "[encoded data removed]",
      "text/plain": [
       "<Figure size 800x600 with 1 Axes>"
      ]
     },
     "metadata": {},
     "output_type": "display_data"
    }
   ],
   "source": [
    "x_max, y_max = (results_r_squared[0][0], results_r_squared[0][1])\n",
    "x_mad, y_mad = (results_r_squared[1][0], results_r_squared[1][1])\n",
    "x_myc, y_myc = (results_r_squared[2][0], results_r_squared[2][1])\n",
    "\n",
    "plt.figure(figsize=(8,6))\n",
    "plt.plot(x_max, y_max, 'o', markersize=10)\n",
    "plt.plot(x_mad, y_mad, 'o', markersize=10)\n",
    "plt.plot(x_myc, y_myc, 'o', markersize=10)\n",
    "\n",
    "plt.title('1mer vs. 1mer+4shape')\n",
    "plt.xlabel('1mer')\n",
    "plt.ylabel('1mer+4shape')\n",
    "plt.xlim = (0,1)\n",
    "plt.ylim = (0,1)\n",
    "plt.plot([0,1], [0,1], '--')\n",
    "plt.grid(True)\n",
    "plt.legend(('Max', 'Mad', 'Myc'))\n",
    "plt.show()"
   ]
  },
  {
   "cell_type": "markdown",
   "id": "48b7bb4a",
   "metadata": {},
   "source": [
    "It is clear from the graph that identifying transcription factor binding sites is much more efficient when one inclues shape features due to the signficiantly higher r_squared scores from the 1mer with shapes vs without."
   ]
  }
 ],
 "metadata": {
  "kernelspec": {
   "display_name": "Python 3 (ipykernel)",
   "language": "python",
   "name": "python3"
  },
  "language_info": {
   "codemirror_mode": {
    "name": "ipython",
    "version": 3
   },
   "file_extension": ".py",
   "mimetype": "text/x-python",
   "name": "python",
   "nbconvert_exporter": "python",
   "pygments_lexer": "ipython3",
   "version": "3.11.4"
  }
 },
 "nbformat": 4,
 "nbformat_minor": 5
}
